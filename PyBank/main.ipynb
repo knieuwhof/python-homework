{
 "cells": [
  {
   "cell_type": "code",
   "execution_count": 1,
   "id": "c5e9ab4f-c24d-4d17-bcf1-c1e954d5c3df",
   "metadata": {},
   "outputs": [],
   "source": [
    "from pathlib import Path\n",
    "import csv"
   ]
  },
  {
   "cell_type": "code",
   "execution_count": 2,
   "id": "07ed405b-8fc1-4ddb-b22c-0e53a8c3df31",
   "metadata": {
    "tags": []
   },
   "outputs": [],
   "source": [
    "csv_path = Path('./Resources/budget_data.csv')"
   ]
  },
  {
   "cell_type": "code",
   "execution_count": 3,
   "id": "c29a8abf-c1e6-4b3f-a775-8106e24a0cb1",
   "metadata": {
    "tags": []
   },
   "outputs": [],
   "source": [
    "def read_csv(csv_path):\n",
    "    with open (csv_path, 'r') as csv_file:\n",
    "        reader = csv.reader(csv_file,delimiter = ',')\n",
    "        record_list = list(reader)\n",
    "    return record_list"
   ]
  },
  {
   "cell_type": "code",
   "execution_count": 77,
   "id": "b638d751-5c91-4fdd-8c07-50c0759f68ef",
   "metadata": {
    "tags": []
   },
   "outputs": [
    {
     "data": {
      "text/plain": [
       "[['Date', 'Profit/Losses'],\n",
       " ['Jan-2010', '867884'],\n",
       " ['Feb-2010', '984655'],\n",
       " ['Mar-2010', '322013'],\n",
       " ['Apr-2010', '-69417'],\n",
       " ['May-2010', '310503'],\n",
       " ['Jun-2010', '522857'],\n",
       " ['Jul-2010', '1033096'],\n",
       " ['Aug-2010', '604885'],\n",
       " ['Sep-2010', '-216386'],\n",
       " ['Oct-2010', '477532'],\n",
       " ['Nov-2010', '893810'],\n",
       " ['Dec-2010', '-80353'],\n",
       " ['Jan-2011', '779806'],\n",
       " ['Feb-2011', '-335203'],\n",
       " ['Mar-2011', '697845'],\n",
       " ['Apr-2011', '793163'],\n",
       " ['May-2011', '485070'],\n",
       " ['Jun-2011', '584122'],\n",
       " ['Jul-2011', '62729'],\n",
       " ['Aug-2011', '668179'],\n",
       " ['Sep-2011', '899906'],\n",
       " ['Oct-2011', '834719'],\n",
       " ['Nov-2011', '132003'],\n",
       " ['Dec-2011', '309978'],\n",
       " ['Jan-2012', '-755566'],\n",
       " ['Feb-2012', '1170593'],\n",
       " ['Mar-2012', '252788'],\n",
       " ['Apr-2012', '1151518'],\n",
       " ['May-2012', '817256'],\n",
       " ['Jun-2012', '570757'],\n",
       " ['Jul-2012', '506702'],\n",
       " ['Aug-2012', '-1022534'],\n",
       " ['Sep-2012', '475062'],\n",
       " ['Oct-2012', '779976'],\n",
       " ['Nov-2012', '144175'],\n",
       " ['Dec-2012', '542494'],\n",
       " ['Jan-2013', '359333'],\n",
       " ['Feb-2013', '321469'],\n",
       " ['Mar-2013', '67780'],\n",
       " ['Apr-2013', '471435'],\n",
       " ['May-2013', '565603'],\n",
       " ['Jun-2013', '872480'],\n",
       " ['Jul-2013', '789480'],\n",
       " ['Aug-2013', '999942'],\n",
       " ['Sep-2013', '-1196225'],\n",
       " ['Oct-2013', '268997'],\n",
       " ['Nov-2013', '-687986'],\n",
       " ['Dec-2013', '1150461'],\n",
       " ['Jan-2014', '682458'],\n",
       " ['Feb-2014', '617856'],\n",
       " ['Mar-2014', '824098'],\n",
       " ['Apr-2014', '581943'],\n",
       " ['May-2014', '132864'],\n",
       " ['Jun-2014', '448062'],\n",
       " ['Jul-2014', '689161'],\n",
       " ['Aug-2014', '800701'],\n",
       " ['Sep-2014', '1166643'],\n",
       " ['Oct-2014', '947333'],\n",
       " ['Nov-2014', '578668'],\n",
       " ['Dec-2014', '988505'],\n",
       " ['Jan-2015', '1139715'],\n",
       " ['Feb-2015', '1029471'],\n",
       " ['Mar-2015', '687533'],\n",
       " ['Apr-2015', '-524626'],\n",
       " ['May-2015', '158620'],\n",
       " ['Jun-2015', '87795'],\n",
       " ['Jul-2015', '423389'],\n",
       " ['Aug-2015', '840723'],\n",
       " ['Sep-2015', '568529'],\n",
       " ['Oct-2015', '332067'],\n",
       " ['Nov-2015', '989499'],\n",
       " ['Dec-2015', '778237'],\n",
       " ['Jan-2016', '650000'],\n",
       " ['Feb-2016', '-1100387'],\n",
       " ['Mar-2016', '-174946'],\n",
       " ['Apr-2016', '757143'],\n",
       " ['May-2016', '445709'],\n",
       " ['Jun-2016', '712961'],\n",
       " ['Jul-2016', '-1163797'],\n",
       " ['Aug-2016', '569899'],\n",
       " ['Sep-2016', '768450'],\n",
       " ['Oct-2016', '102685'],\n",
       " ['Nov-2016', '795914'],\n",
       " ['Dec-2016', '60988'],\n",
       " ['Jan-2017', '138230'],\n",
       " ['Feb-2017', '671099']]"
      ]
     },
     "execution_count": 77,
     "metadata": {},
     "output_type": "execute_result"
    }
   ],
   "source": [
    "read_csv(csv_path)"
   ]
  },
  {
   "cell_type": "code",
   "execution_count": 83,
   "id": "6ed5b3b1-53fe-4260-965f-92e360e26244",
   "metadata": {
    "tags": []
   },
   "outputs": [],
   "source": [
    "def remove_header(list_record_withheader):\n",
    "    list_record_withoutheader = list_record_withheader[1:]\n",
    "    return list_record_withoutheader"
   ]
  },
  {
   "cell_type": "code",
   "execution_count": 84,
   "id": "bd4928f9-a2f2-40a3-8524-355048143279",
   "metadata": {
    "tags": []
   },
   "outputs": [],
   "source": [
    "budget_data_list = read_csv(csv_path)"
   ]
  },
  {
   "cell_type": "code",
   "execution_count": 85,
   "id": "087db8c9-7998-46ae-a3a0-9044e1686d1f",
   "metadata": {
    "tags": []
   },
   "outputs": [],
   "source": [
    "budget_data_list_withheaderremoved = remove_header(budget_data_list)"
   ]
  },
  {
   "cell_type": "code",
   "execution_count": 8,
   "id": "2ed47265-27c8-4d92-bbfc-ecfb9a471905",
   "metadata": {
    "tags": []
   },
   "outputs": [
    {
     "name": "stdout",
     "output_type": "stream",
     "text": [
      "[['Jan-2010', '867884'], ['Feb-2010', '984655'], ['Mar-2010', '322013'], ['Apr-2010', '-69417'], ['May-2010', '310503'], ['Jun-2010', '522857'], ['Jul-2010', '1033096'], ['Aug-2010', '604885'], ['Sep-2010', '-216386'], ['Oct-2010', '477532'], ['Nov-2010', '893810'], ['Dec-2010', '-80353'], ['Jan-2011', '779806'], ['Feb-2011', '-335203'], ['Mar-2011', '697845'], ['Apr-2011', '793163'], ['May-2011', '485070'], ['Jun-2011', '584122'], ['Jul-2011', '62729'], ['Aug-2011', '668179'], ['Sep-2011', '899906'], ['Oct-2011', '834719'], ['Nov-2011', '132003'], ['Dec-2011', '309978'], ['Jan-2012', '-755566'], ['Feb-2012', '1170593'], ['Mar-2012', '252788'], ['Apr-2012', '1151518'], ['May-2012', '817256'], ['Jun-2012', '570757'], ['Jul-2012', '506702'], ['Aug-2012', '-1022534'], ['Sep-2012', '475062'], ['Oct-2012', '779976'], ['Nov-2012', '144175'], ['Dec-2012', '542494'], ['Jan-2013', '359333'], ['Feb-2013', '321469'], ['Mar-2013', '67780'], ['Apr-2013', '471435'], ['May-2013', '565603'], ['Jun-2013', '872480'], ['Jul-2013', '789480'], ['Aug-2013', '999942'], ['Sep-2013', '-1196225'], ['Oct-2013', '268997'], ['Nov-2013', '-687986'], ['Dec-2013', '1150461'], ['Jan-2014', '682458'], ['Feb-2014', '617856'], ['Mar-2014', '824098'], ['Apr-2014', '581943'], ['May-2014', '132864'], ['Jun-2014', '448062'], ['Jul-2014', '689161'], ['Aug-2014', '800701'], ['Sep-2014', '1166643'], ['Oct-2014', '947333'], ['Nov-2014', '578668'], ['Dec-2014', '988505'], ['Jan-2015', '1139715'], ['Feb-2015', '1029471'], ['Mar-2015', '687533'], ['Apr-2015', '-524626'], ['May-2015', '158620'], ['Jun-2015', '87795'], ['Jul-2015', '423389'], ['Aug-2015', '840723'], ['Sep-2015', '568529'], ['Oct-2015', '332067'], ['Nov-2015', '989499'], ['Dec-2015', '778237'], ['Jan-2016', '650000'], ['Feb-2016', '-1100387'], ['Mar-2016', '-174946'], ['Apr-2016', '757143'], ['May-2016', '445709'], ['Jun-2016', '712961'], ['Jul-2016', '-1163797'], ['Aug-2016', '569899'], ['Sep-2016', '768450'], ['Oct-2016', '102685'], ['Nov-2016', '795914'], ['Dec-2016', '60988'], ['Jan-2017', '138230'], ['Feb-2017', '671099']]\n"
     ]
    }
   ],
   "source": [
    "print(budget_data_list_withheaderremoved)"
   ]
  },
  {
   "cell_type": "code",
   "execution_count": 89,
   "id": "3a1cfb1a-87eb-4f93-b56b-7c7ba3e4076b",
   "metadata": {
    "tags": []
   },
   "outputs": [
    {
     "name": "stdout",
     "output_type": "stream",
     "text": [
      "86\n"
     ]
    }
   ],
   "source": [
    "total_months = len(budget_data_list_withheaderremoved)\n",
    "print(total_months)"
   ]
  },
  {
   "cell_type": "code",
   "execution_count": 81,
   "id": "99310bf0-19de-460f-bf61-33d10c3d11d7",
   "metadata": {
    "tags": []
   },
   "outputs": [
    {
     "name": "stdout",
     "output_type": "stream",
     "text": [
      "38382578\n"
     ]
    }
   ],
   "source": [
    "def get_total(budget_data_list):\n",
    "    total = 0\n",
    "    for small_list in budget_data_list:\n",
    "        total += int(small_list[1])\n",
    "    return total\n",
    "\n",
    "total = get_total(budget_data_list_withheaderremoved)\n",
    "\n",
    "print(total)        "
   ]
  },
  {
   "cell_type": "code",
   "execution_count": 98,
   "id": "580905f5-4542-474b-8b98-d22cddace26d",
   "metadata": {
    "tags": []
   },
   "outputs": [
    {
     "data": {
      "text/plain": [
       "446309.0465116279"
      ]
     },
     "execution_count": 98,
     "metadata": {},
     "output_type": "execute_result"
    }
   ],
   "source": [
    "average = 0\n",
    "    \n",
    "def get_average(total, total_months):\n",
    "    average = total / total_months\n",
    "    return average\n",
    "\n",
    "get_average(total,total_months)\n",
    "\n",
    "# incorrect? \n",
    "# Average changes in profit/ losses over the entire period?"
   ]
  },
  {
   "cell_type": "code",
   "execution_count": null,
   "id": "1ad8519a-28e0-4563-a524-53fdb027c29e",
   "metadata": {},
   "outputs": [],
   "source": [
    "def average_changes():\n",
    "    average = 0\n",
    "    for small_list in budget_data_list:\n",
    "        average = \n",
    "#        total += int(small_list[1])\n",
    "    for i in range(len(budget_data_list)-1):\n",
    "        average = int(budget_data_list[i+1][1]) - int(budget_data_list[i][1])"
   ]
  },
  {
   "cell_type": "code",
   "execution_count": null,
   "id": "e5f81da2-8f68-4be7-a737-fc16ddd6976f",
   "metadata": {
    "tags": []
   },
   "outputs": [],
   "source": [
    "import statistics\n",
    "\n",
    "def get_average_changes(budget_data_list):\n",
    "    average = 0\n",
    "    average = statistics.mean(budget_data_list_withheaderremoved[1])\n",
    "    return average\n",
    "\n",
    "# not working"
   ]
  },
  {
   "cell_type": "code",
   "execution_count": null,
   "id": "f3e32cc9-e142-455d-97f3-7b3f277f4081",
   "metadata": {},
   "outputs": [],
   "source": [
    "   for i in range(len(budget_data_list)-1):\n",
    "        average = statistics.mean(budget_data_list)\n",
    "    return average\n",
    "\n",
    "get_average_changes(budget_data_list_withheaderremoved)"
   ]
  },
  {
   "cell_type": "code",
   "execution_count": null,
   "id": "0e7be6bf-6a5f-4110-be86-b63237e79adb",
   "metadata": {},
   "outputs": [],
   "source": [
    "# def get_average_change():\n",
    "#    for small_list in budget_data_list:\n",
    "#        total += int(small_list[1])\n",
    "#    return total"
   ]
  },
  {
   "cell_type": "code",
   "execution_count": 114,
   "id": "d66409af-1428-42e5-a8dc-7d6530f3f57c",
   "metadata": {
    "tags": []
   },
   "outputs": [
    {
     "name": "stdout",
     "output_type": "stream",
     "text": [
      "Feb-2012 1926159\n"
     ]
    }
   ],
   "source": [
    "def get_max_increase(budget_data_list):\n",
    "    max_increase_month = ''\n",
    "    max_increase_amt = 0\n",
    "    increase = 0\n",
    "    for i in range(len(budget_data_list)-1):\n",
    "        increase = int(budget_data_list[i+1][1]) - int(budget_data_list[i][1])\n",
    "        if increase >= max_increase_amt:\n",
    "            max_increase_amt = increase\n",
    "            max_increase_month = budget_data_list[i+1][0]\n",
    "    return max_increase_month, max_increase_amt\n",
    "\n",
    "max_increase_month, max_increase_amt = get_max_increase(budget_data_list_withheaderremoved)\n",
    "\n",
    "print(f'{max_increase_month} {max_increase_amt}')\n",
    "        "
   ]
  },
  {
   "cell_type": "code",
   "execution_count": 115,
   "id": "991f362a-e363-4ca5-a5d1-dd850f848ec5",
   "metadata": {
    "tags": []
   },
   "outputs": [
    {
     "name": "stdout",
     "output_type": "stream",
     "text": [
      "Sep-2013 2196167\n"
     ]
    }
   ],
   "source": [
    "def get_max_decrease(budget_data_list):\n",
    "    max_decrease_month = ''\n",
    "    max_decrease_amt = 0\n",
    "    decrease = 0\n",
    "    for i in range(len(budget_data_list)-1):\n",
    "        decrease = int(budget_data_list[i][1]) - int(budget_data_list[i+1][1])\n",
    "        if decrease >= max_decrease_amt:\n",
    "            max_decrease_amt = decrease\n",
    "            max_decrease_month = budget_data_list[i+1][0]\n",
    "    return max_decrease_month, max_decrease_amt\n",
    "\n",
    "max_decrease_month, max_decrease_amt = get_max_decrease(budget_data_list_withheaderremoved)\n",
    "\n",
    "print(f'{max_decrease_month} {max_decrease_amt}')"
   ]
  },
  {
   "cell_type": "code",
   "execution_count": null,
   "id": "db3d679c-24ad-45de-a4b3-db66cd496f3a",
   "metadata": {},
   "outputs": [],
   "source": [
    "\n",
    "        "
   ]
  }
 ],
 "metadata": {
  "kernelspec": {
   "display_name": "Python 3 (ipykernel)",
   "language": "python",
   "name": "python3"
  },
  "language_info": {
   "codemirror_mode": {
    "name": "ipython",
    "version": 3
   },
   "file_extension": ".py",
   "mimetype": "text/x-python",
   "name": "python",
   "nbconvert_exporter": "python",
   "pygments_lexer": "ipython3",
   "version": "3.11.5"
  }
 },
 "nbformat": 4,
 "nbformat_minor": 5
}
