{
 "cells": [
  {
   "cell_type": "code",
   "execution_count": 1,
   "id": "c5e9ab4f-c24d-4d17-bcf1-c1e954d5c3df",
   "metadata": {},
   "outputs": [],
   "source": [
    "from pathlib import Path\n",
    "import csv"
   ]
  },
  {
   "cell_type": "code",
   "execution_count": 2,
   "id": "07ed405b-8fc1-4ddb-b22c-0e53a8c3df31",
   "metadata": {
    "tags": []
   },
   "outputs": [],
   "source": [
    "csv_path = Path('./Resources/budget_data.csv')"
   ]
  },
  {
   "cell_type": "code",
   "execution_count": 3,
   "id": "c29a8abf-c1e6-4b3f-a775-8106e24a0cb1",
   "metadata": {
    "tags": []
   },
   "outputs": [],
   "source": [
    "def read_csv(csv_path):\n",
    "    with open (csv_path, 'r') as csv_file:\n",
    "        reader = csv.reader(csv_file,delimiter = ',')\n",
    "        record_list = list(reader)\n",
    "    return record_list"
   ]
  },
  {
   "cell_type": "code",
   "execution_count": 4,
   "id": "b638d751-5c91-4fdd-8c07-50c0759f68ef",
   "metadata": {
    "tags": []
   },
   "outputs": [
    {
     "data": {
      "text/plain": [
       "[['Date', 'Profit/Losses'],\n",
       " ['Jan-2010', '867884'],\n",
       " ['Feb-2010', '984655'],\n",
       " ['Mar-2010', '322013'],\n",
       " ['Apr-2010', '-69417'],\n",
       " ['May-2010', '310503'],\n",
       " ['Jun-2010', '522857'],\n",
       " ['Jul-2010', '1033096'],\n",
       " ['Aug-2010', '604885'],\n",
       " ['Sep-2010', '-216386'],\n",
       " ['Oct-2010', '477532'],\n",
       " ['Nov-2010', '893810'],\n",
       " ['Dec-2010', '-80353'],\n",
       " ['Jan-2011', '779806'],\n",
       " ['Feb-2011', '-335203'],\n",
       " ['Mar-2011', '697845'],\n",
       " ['Apr-2011', '793163'],\n",
       " ['May-2011', '485070'],\n",
       " ['Jun-2011', '584122'],\n",
       " ['Jul-2011', '62729'],\n",
       " ['Aug-2011', '668179'],\n",
       " ['Sep-2011', '899906'],\n",
       " ['Oct-2011', '834719'],\n",
       " ['Nov-2011', '132003'],\n",
       " ['Dec-2011', '309978'],\n",
       " ['Jan-2012', '-755566'],\n",
       " ['Feb-2012', '1170593'],\n",
       " ['Mar-2012', '252788'],\n",
       " ['Apr-2012', '1151518'],\n",
       " ['May-2012', '817256'],\n",
       " ['Jun-2012', '570757'],\n",
       " ['Jul-2012', '506702'],\n",
       " ['Aug-2012', '-1022534'],\n",
       " ['Sep-2012', '475062'],\n",
       " ['Oct-2012', '779976'],\n",
       " ['Nov-2012', '144175'],\n",
       " ['Dec-2012', '542494'],\n",
       " ['Jan-2013', '359333'],\n",
       " ['Feb-2013', '321469'],\n",
       " ['Mar-2013', '67780'],\n",
       " ['Apr-2013', '471435'],\n",
       " ['May-2013', '565603'],\n",
       " ['Jun-2013', '872480'],\n",
       " ['Jul-2013', '789480'],\n",
       " ['Aug-2013', '999942'],\n",
       " ['Sep-2013', '-1196225'],\n",
       " ['Oct-2013', '268997'],\n",
       " ['Nov-2013', '-687986'],\n",
       " ['Dec-2013', '1150461'],\n",
       " ['Jan-2014', '682458'],\n",
       " ['Feb-2014', '617856'],\n",
       " ['Mar-2014', '824098'],\n",
       " ['Apr-2014', '581943'],\n",
       " ['May-2014', '132864'],\n",
       " ['Jun-2014', '448062'],\n",
       " ['Jul-2014', '689161'],\n",
       " ['Aug-2014', '800701'],\n",
       " ['Sep-2014', '1166643'],\n",
       " ['Oct-2014', '947333'],\n",
       " ['Nov-2014', '578668'],\n",
       " ['Dec-2014', '988505'],\n",
       " ['Jan-2015', '1139715'],\n",
       " ['Feb-2015', '1029471'],\n",
       " ['Mar-2015', '687533'],\n",
       " ['Apr-2015', '-524626'],\n",
       " ['May-2015', '158620'],\n",
       " ['Jun-2015', '87795'],\n",
       " ['Jul-2015', '423389'],\n",
       " ['Aug-2015', '840723'],\n",
       " ['Sep-2015', '568529'],\n",
       " ['Oct-2015', '332067'],\n",
       " ['Nov-2015', '989499'],\n",
       " ['Dec-2015', '778237'],\n",
       " ['Jan-2016', '650000'],\n",
       " ['Feb-2016', '-1100387'],\n",
       " ['Mar-2016', '-174946'],\n",
       " ['Apr-2016', '757143'],\n",
       " ['May-2016', '445709'],\n",
       " ['Jun-2016', '712961'],\n",
       " ['Jul-2016', '-1163797'],\n",
       " ['Aug-2016', '569899'],\n",
       " ['Sep-2016', '768450'],\n",
       " ['Oct-2016', '102685'],\n",
       " ['Nov-2016', '795914'],\n",
       " ['Dec-2016', '60988'],\n",
       " ['Jan-2017', '138230'],\n",
       " ['Feb-2017', '671099']]"
      ]
     },
     "execution_count": 4,
     "metadata": {},
     "output_type": "execute_result"
    }
   ],
   "source": [
    "read_csv(csv_path)"
   ]
  },
  {
   "cell_type": "code",
   "execution_count": 5,
   "id": "6ed5b3b1-53fe-4260-965f-92e360e26244",
   "metadata": {
    "tags": []
   },
   "outputs": [],
   "source": [
    "def remove_header(list_record_withheader):\n",
    "    list_record_withoutheader = list_record_withheader[1:]\n",
    "    return list_record_withoutheader"
   ]
  },
  {
   "cell_type": "code",
   "execution_count": 6,
   "id": "bd4928f9-a2f2-40a3-8524-355048143279",
   "metadata": {
    "tags": []
   },
   "outputs": [],
   "source": [
    "budget_data_list = read_csv(csv_path)"
   ]
  },
  {
   "cell_type": "code",
   "execution_count": 7,
   "id": "087db8c9-7998-46ae-a3a0-9044e1686d1f",
   "metadata": {
    "tags": []
   },
   "outputs": [],
   "source": [
    "budget_data_list_withheaderremoved = remove_header(budget_data_list)"
   ]
  },
  {
   "cell_type": "code",
   "execution_count": 8,
   "id": "2ed47265-27c8-4d92-bbfc-ecfb9a471905",
   "metadata": {
    "tags": []
   },
   "outputs": [
    {
     "name": "stdout",
     "output_type": "stream",
     "text": [
      "[['Jan-2010', '867884'], ['Feb-2010', '984655'], ['Mar-2010', '322013'], ['Apr-2010', '-69417'], ['May-2010', '310503'], ['Jun-2010', '522857'], ['Jul-2010', '1033096'], ['Aug-2010', '604885'], ['Sep-2010', '-216386'], ['Oct-2010', '477532'], ['Nov-2010', '893810'], ['Dec-2010', '-80353'], ['Jan-2011', '779806'], ['Feb-2011', '-335203'], ['Mar-2011', '697845'], ['Apr-2011', '793163'], ['May-2011', '485070'], ['Jun-2011', '584122'], ['Jul-2011', '62729'], ['Aug-2011', '668179'], ['Sep-2011', '899906'], ['Oct-2011', '834719'], ['Nov-2011', '132003'], ['Dec-2011', '309978'], ['Jan-2012', '-755566'], ['Feb-2012', '1170593'], ['Mar-2012', '252788'], ['Apr-2012', '1151518'], ['May-2012', '817256'], ['Jun-2012', '570757'], ['Jul-2012', '506702'], ['Aug-2012', '-1022534'], ['Sep-2012', '475062'], ['Oct-2012', '779976'], ['Nov-2012', '144175'], ['Dec-2012', '542494'], ['Jan-2013', '359333'], ['Feb-2013', '321469'], ['Mar-2013', '67780'], ['Apr-2013', '471435'], ['May-2013', '565603'], ['Jun-2013', '872480'], ['Jul-2013', '789480'], ['Aug-2013', '999942'], ['Sep-2013', '-1196225'], ['Oct-2013', '268997'], ['Nov-2013', '-687986'], ['Dec-2013', '1150461'], ['Jan-2014', '682458'], ['Feb-2014', '617856'], ['Mar-2014', '824098'], ['Apr-2014', '581943'], ['May-2014', '132864'], ['Jun-2014', '448062'], ['Jul-2014', '689161'], ['Aug-2014', '800701'], ['Sep-2014', '1166643'], ['Oct-2014', '947333'], ['Nov-2014', '578668'], ['Dec-2014', '988505'], ['Jan-2015', '1139715'], ['Feb-2015', '1029471'], ['Mar-2015', '687533'], ['Apr-2015', '-524626'], ['May-2015', '158620'], ['Jun-2015', '87795'], ['Jul-2015', '423389'], ['Aug-2015', '840723'], ['Sep-2015', '568529'], ['Oct-2015', '332067'], ['Nov-2015', '989499'], ['Dec-2015', '778237'], ['Jan-2016', '650000'], ['Feb-2016', '-1100387'], ['Mar-2016', '-174946'], ['Apr-2016', '757143'], ['May-2016', '445709'], ['Jun-2016', '712961'], ['Jul-2016', '-1163797'], ['Aug-2016', '569899'], ['Sep-2016', '768450'], ['Oct-2016', '102685'], ['Nov-2016', '795914'], ['Dec-2016', '60988'], ['Jan-2017', '138230'], ['Feb-2017', '671099']]\n"
     ]
    }
   ],
   "source": [
    "print(budget_data_list_withheaderremoved)"
   ]
  },
  {
   "cell_type": "code",
   "execution_count": 9,
   "id": "3a1cfb1a-87eb-4f93-b56b-7c7ba3e4076b",
   "metadata": {
    "tags": []
   },
   "outputs": [
    {
     "data": {
      "text/plain": [
       "86"
      ]
     },
     "execution_count": 9,
     "metadata": {},
     "output_type": "execute_result"
    }
   ],
   "source": [
    "len(budget_data_list_withheaderremoved)"
   ]
  },
  {
   "cell_type": "code",
   "execution_count": 10,
   "id": "ca74ddd9-0e2b-4524-a13c-0a3bc88ea3dc",
   "metadata": {
    "tags": []
   },
   "outputs": [
    {
     "name": "stdout",
     "output_type": "stream",
     "text": [
      "[['Date', 'Profit/Losses'], ['Jan-2010', '867884'], ['Feb-2010', '984655'], ['Mar-2010', '322013'], ['Apr-2010', '-69417'], ['May-2010', '310503'], ['Jun-2010', '522857'], ['Jul-2010', '1033096'], ['Aug-2010', '604885'], ['Sep-2010', '-216386'], ['Oct-2010', '477532'], ['Nov-2010', '893810'], ['Dec-2010', '-80353'], ['Jan-2011', '779806'], ['Feb-2011', '-335203'], ['Mar-2011', '697845'], ['Apr-2011', '793163'], ['May-2011', '485070'], ['Jun-2011', '584122'], ['Jul-2011', '62729'], ['Aug-2011', '668179'], ['Sep-2011', '899906'], ['Oct-2011', '834719'], ['Nov-2011', '132003'], ['Dec-2011', '309978'], ['Jan-2012', '-755566'], ['Feb-2012', '1170593'], ['Mar-2012', '252788'], ['Apr-2012', '1151518'], ['May-2012', '817256'], ['Jun-2012', '570757'], ['Jul-2012', '506702'], ['Aug-2012', '-1022534'], ['Sep-2012', '475062'], ['Oct-2012', '779976'], ['Nov-2012', '144175'], ['Dec-2012', '542494'], ['Jan-2013', '359333'], ['Feb-2013', '321469'], ['Mar-2013', '67780'], ['Apr-2013', '471435'], ['May-2013', '565603'], ['Jun-2013', '872480'], ['Jul-2013', '789480'], ['Aug-2013', '999942'], ['Sep-2013', '-1196225'], ['Oct-2013', '268997'], ['Nov-2013', '-687986'], ['Dec-2013', '1150461'], ['Jan-2014', '682458'], ['Feb-2014', '617856'], ['Mar-2014', '824098'], ['Apr-2014', '581943'], ['May-2014', '132864'], ['Jun-2014', '448062'], ['Jul-2014', '689161'], ['Aug-2014', '800701'], ['Sep-2014', '1166643'], ['Oct-2014', '947333'], ['Nov-2014', '578668'], ['Dec-2014', '988505'], ['Jan-2015', '1139715'], ['Feb-2015', '1029471'], ['Mar-2015', '687533'], ['Apr-2015', '-524626'], ['May-2015', '158620'], ['Jun-2015', '87795'], ['Jul-2015', '423389'], ['Aug-2015', '840723'], ['Sep-2015', '568529'], ['Oct-2015', '332067'], ['Nov-2015', '989499'], ['Dec-2015', '778237'], ['Jan-2016', '650000'], ['Feb-2016', '-1100387'], ['Mar-2016', '-174946'], ['Apr-2016', '757143'], ['May-2016', '445709'], ['Jun-2016', '712961'], ['Jul-2016', '-1163797'], ['Aug-2016', '569899'], ['Sep-2016', '768450'], ['Oct-2016', '102685'], ['Nov-2016', '795914'], ['Dec-2016', '60988'], ['Jan-2017', '138230'], ['Feb-2017', '671099']]\n"
     ]
    }
   ],
   "source": [
    "print(budget_data_list)"
   ]
  },
  {
   "cell_type": "code",
   "execution_count": 75,
   "id": "99310bf0-19de-460f-bf61-33d10c3d11d7",
   "metadata": {
    "tags": []
   },
   "outputs": [
    {
     "name": "stdout",
     "output_type": "stream",
     "text": [
      "38382578\n",
      "Feb-2012 1926159\n"
     ]
    }
   ],
   "source": [
    "def get_total(budget_data_list):\n",
    "    total = 0\n",
    "    for small_list in budget_data_list:\n",
    "        total += int(small_list[1])\n",
    "    return total\n",
    "\n",
    "total = get_total(budget_data_list_withheaderremoved)\n",
    "\n",
    "print(total)\n",
    "\n",
    "def get_max_increase(budget_data_list):\n",
    "    max_increase_month = ''\n",
    "    max_increase_amt = 0\n",
    "    increase = 0\n",
    "    for i in range(len(budget_data_list)-1):\n",
    "        increase = int(budget_data_list[i+1][1]) - int(budget_data_list[i][1])\n",
    "        if increase >= max_increase_amt:\n",
    "            max_increase_amt = increase\n",
    "            max_increase_month = budget_data_list[i+1][0]\n",
    "    return max_increase_month, max_increase_amt\n",
    "max_increase_month, max_increase_amt = get_max_increase(budget_data_list_withheaderremoved)\n",
    "print(f'{max_increase_month} {max_increase_amt}')\n",
    "        \n",
    "        \n",
    "        \n",
    "        "
   ]
  },
  {
   "cell_type": "code",
   "execution_count": 11,
   "id": "b40d4ba4-1537-4758-b13d-0a9238532e0a",
   "metadata": {
    "tags": []
   },
   "outputs": [
    {
     "name": "stdout",
     "output_type": "stream",
     "text": [
      "[867884, 984655, 322013, -69417, 310503]\n"
     ]
    }
   ],
   "source": [
    "integers_fromlist = [int(budget_data_list[1][1]), int(budget_data_list[2][1]), int(budget_data_list[3][1]), int(budget_data_list[4][1]),int(budget_data_list[5][1])]\n",
    "print(integers_fromlist)"
   ]
  },
  {
   "cell_type": "code",
   "execution_count": 12,
   "id": "4862173e-b1a7-414f-9ef7-87d214e2a060",
   "metadata": {
    "tags": []
   },
   "outputs": [
    {
     "data": {
      "text/plain": [
       "2415638"
      ]
     },
     "execution_count": 12,
     "metadata": {},
     "output_type": "execute_result"
    }
   ],
   "source": [
    "sum(integers_fromlist)"
   ]
  },
  {
   "cell_type": "code",
   "execution_count": null,
   "id": "a8059fd7-b085-4f55-95d3-9c6532e2754c",
   "metadata": {},
   "outputs": [],
   "source": []
  },
  {
   "cell_type": "code",
   "execution_count": 13,
   "id": "47f9bada-6617-45fc-b907-174570804cf8",
   "metadata": {
    "tags": []
   },
   "outputs": [
    {
     "name": "stdout",
     "output_type": "stream",
     "text": [
      "867884\n",
      "984655\n",
      "322013\n",
      "-69417\n",
      "310503\n",
      "522857\n",
      "1033096\n",
      "604885\n",
      "-216386\n",
      "477532\n",
      "893810\n",
      "-80353\n",
      "779806\n",
      "-335203\n",
      "697845\n",
      "793163\n",
      "485070\n",
      "584122\n",
      "62729\n",
      "668179\n",
      "899906\n",
      "834719\n",
      "132003\n",
      "309978\n",
      "-755566\n",
      "1170593\n",
      "252788\n",
      "1151518\n",
      "817256\n",
      "570757\n",
      "506702\n",
      "-1022534\n",
      "475062\n",
      "779976\n",
      "144175\n",
      "542494\n",
      "359333\n",
      "321469\n",
      "67780\n",
      "471435\n",
      "565603\n",
      "872480\n",
      "789480\n",
      "999942\n",
      "-1196225\n",
      "268997\n",
      "-687986\n",
      "1150461\n",
      "682458\n",
      "617856\n",
      "824098\n",
      "581943\n",
      "132864\n",
      "448062\n",
      "689161\n",
      "800701\n",
      "1166643\n",
      "947333\n",
      "578668\n",
      "988505\n",
      "1139715\n",
      "1029471\n",
      "687533\n",
      "-524626\n",
      "158620\n",
      "87795\n",
      "423389\n",
      "840723\n",
      "568529\n",
      "332067\n",
      "989499\n",
      "778237\n",
      "650000\n",
      "-1100387\n",
      "-174946\n",
      "757143\n",
      "445709\n",
      "712961\n",
      "-1163797\n",
      "569899\n",
      "768450\n",
      "102685\n",
      "795914\n",
      "60988\n",
      "138230\n",
      "671099\n"
     ]
    }
   ],
   "source": [
    "for value in budget_data_list_withheaderremoved:\n",
    "    print(value[1])"
   ]
  },
  {
   "cell_type": "code",
   "execution_count": 14,
   "id": "280fe989-c58b-4626-bbc8-f82c6f2b02d5",
   "metadata": {
    "tags": []
   },
   "outputs": [
    {
     "ename": "TypeError",
     "evalue": "unsupported operand type(s) for +: 'int' and 'str'",
     "output_type": "error",
     "traceback": [
      "\u001b[0;31m---------------------------------------------------------------------------\u001b[0m",
      "\u001b[0;31mTypeError\u001b[0m                                 Traceback (most recent call last)",
      "Cell \u001b[0;32mIn[14], line 2\u001b[0m\n\u001b[1;32m      1\u001b[0m \u001b[38;5;28;01mfor\u001b[39;00m value \u001b[38;5;129;01min\u001b[39;00m budget_data_list_withheaderremoved:\n\u001b[0;32m----> 2\u001b[0m     \u001b[38;5;28msum\u001b[39m(value[\u001b[38;5;241m1\u001b[39m])\n",
      "\u001b[0;31mTypeError\u001b[0m: unsupported operand type(s) for +: 'int' and 'str'"
     ]
    }
   ],
   "source": [
    "for value in budget_data_list_withheaderremoved:\n",
    "    sum(value[1])"
   ]
  },
  {
   "cell_type": "code",
   "execution_count": 27,
   "id": "cc9935d6-87b0-4a67-b793-e1c94af568a8",
   "metadata": {
    "tags": []
   },
   "outputs": [
    {
     "ename": "TypeError",
     "evalue": "'int' object is not iterable",
     "output_type": "error",
     "traceback": [
      "\u001b[0;31m---------------------------------------------------------------------------\u001b[0m",
      "\u001b[0;31mTypeError\u001b[0m                                 Traceback (most recent call last)",
      "Cell \u001b[0;32mIn[27], line 2\u001b[0m\n\u001b[1;32m      1\u001b[0m \u001b[38;5;28;01mfor\u001b[39;00m value \u001b[38;5;129;01min\u001b[39;00m budget_data_list_withheaderremoved:\n\u001b[0;32m----> 2\u001b[0m     value[\u001b[38;5;241m1\u001b[39m] \u001b[38;5;241m+\u001b[39m\u001b[38;5;241m=\u001b[39m total\n",
      "\u001b[0;31mTypeError\u001b[0m: 'int' object is not iterable"
     ]
    }
   ],
   "source": [
    "total = 0\n",
    "\n",
    "for value in budget_data_list_withheaderremoved:\n",
    "    value[1] += total"
   ]
  },
  {
   "cell_type": "code",
   "execution_count": 16,
   "id": "5fdabd28-c362-4224-907b-d44f20a4014f",
   "metadata": {
    "tags": []
   },
   "outputs": [],
   "source": [
    "flat_list = []\n",
    "for sublist in budget_data_list_withheaderremoved:\n",
    "    for item in sublist:\n",
    "        flat_list.append(item)"
   ]
  },
  {
   "cell_type": "code",
   "execution_count": 17,
   "id": "be9e317f-fced-49ef-926e-43d003cedfe2",
   "metadata": {
    "tags": []
   },
   "outputs": [
    {
     "name": "stdout",
     "output_type": "stream",
     "text": [
      "['Jan-2010', '867884', 'Feb-2010', '984655', 'Mar-2010', '322013', 'Apr-2010', '-69417', 'May-2010', '310503', 'Jun-2010', '522857', 'Jul-2010', '1033096', 'Aug-2010', '604885', 'Sep-2010', '-216386', 'Oct-2010', '477532', 'Nov-2010', '893810', 'Dec-2010', '-80353', 'Jan-2011', '779806', 'Feb-2011', '-335203', 'Mar-2011', '697845', 'Apr-2011', '793163', 'May-2011', '485070', 'Jun-2011', '584122', 'Jul-2011', '62729', 'Aug-2011', '668179', 'Sep-2011', '899906', 'Oct-2011', '834719', 'Nov-2011', '132003', 'Dec-2011', '309978', 'Jan-2012', '-755566', 'Feb-2012', '1170593', 'Mar-2012', '252788', 'Apr-2012', '1151518', 'May-2012', '817256', 'Jun-2012', '570757', 'Jul-2012', '506702', 'Aug-2012', '-1022534', 'Sep-2012', '475062', 'Oct-2012', '779976', 'Nov-2012', '144175', 'Dec-2012', '542494', 'Jan-2013', '359333', 'Feb-2013', '321469', 'Mar-2013', '67780', 'Apr-2013', '471435', 'May-2013', '565603', 'Jun-2013', '872480', 'Jul-2013', '789480', 'Aug-2013', '999942', 'Sep-2013', '-1196225', 'Oct-2013', '268997', 'Nov-2013', '-687986', 'Dec-2013', '1150461', 'Jan-2014', '682458', 'Feb-2014', '617856', 'Mar-2014', '824098', 'Apr-2014', '581943', 'May-2014', '132864', 'Jun-2014', '448062', 'Jul-2014', '689161', 'Aug-2014', '800701', 'Sep-2014', '1166643', 'Oct-2014', '947333', 'Nov-2014', '578668', 'Dec-2014', '988505', 'Jan-2015', '1139715', 'Feb-2015', '1029471', 'Mar-2015', '687533', 'Apr-2015', '-524626', 'May-2015', '158620', 'Jun-2015', '87795', 'Jul-2015', '423389', 'Aug-2015', '840723', 'Sep-2015', '568529', 'Oct-2015', '332067', 'Nov-2015', '989499', 'Dec-2015', '778237', 'Jan-2016', '650000', 'Feb-2016', '-1100387', 'Mar-2016', '-174946', 'Apr-2016', '757143', 'May-2016', '445709', 'Jun-2016', '712961', 'Jul-2016', '-1163797', 'Aug-2016', '569899', 'Sep-2016', '768450', 'Oct-2016', '102685', 'Nov-2016', '795914', 'Dec-2016', '60988', 'Jan-2017', '138230', 'Feb-2017', '671099']\n"
     ]
    }
   ],
   "source": [
    "print(flat_list)"
   ]
  },
  {
   "cell_type": "code",
   "execution_count": 27,
   "id": "f9bd9567-9b3a-4ba6-833c-f501d1b47fba",
   "metadata": {
    "tags": []
   },
   "outputs": [
    {
     "ename": "TypeError",
     "evalue": "int() argument must be a string, a bytes-like object or a real number, not 'list'",
     "output_type": "error",
     "traceback": [
      "\u001b[0;31m---------------------------------------------------------------------------\u001b[0m",
      "\u001b[0;31mTypeError\u001b[0m                                 Traceback (most recent call last)",
      "Cell \u001b[0;32mIn[27], line 1\u001b[0m\n\u001b[0;32m----> 1\u001b[0m \u001b[38;5;28mint\u001b[39m(flat_list[\u001b[38;5;241m1\u001b[39m::\u001b[38;5;241m2\u001b[39m])\n",
      "\u001b[0;31mTypeError\u001b[0m: int() argument must be a string, a bytes-like object or a real number, not 'list'"
     ]
    }
   ],
   "source": [
    "int(flat_list[1::2])"
   ]
  },
  {
   "cell_type": "code",
   "execution_count": 29,
   "id": "c31d9624-bd32-4c75-a14d-19253674f881",
   "metadata": {
    "tags": []
   },
   "outputs": [
    {
     "ename": "TypeError",
     "evalue": "unsupported operand type(s) for +: 'int' and 'str'",
     "output_type": "error",
     "traceback": [
      "\u001b[0;31m---------------------------------------------------------------------------\u001b[0m",
      "\u001b[0;31mTypeError\u001b[0m                                 Traceback (most recent call last)",
      "Cell \u001b[0;32mIn[29], line 1\u001b[0m\n\u001b[0;32m----> 1\u001b[0m \u001b[38;5;28msum\u001b[39m(flat_list[\u001b[38;5;241m1\u001b[39m::\u001b[38;5;241m2\u001b[39m])\n",
      "\u001b[0;31mTypeError\u001b[0m: unsupported operand type(s) for +: 'int' and 'str'"
     ]
    }
   ],
   "source": [
    "sum(flat_list[1::2])"
   ]
  },
  {
   "cell_type": "code",
   "execution_count": 72,
   "id": "6d01edd9-88eb-424b-91ae-2abc8474af16",
   "metadata": {
    "tags": []
   },
   "outputs": [
    {
     "name": "stdout",
     "output_type": "stream",
     "text": [
      "867884\n",
      "984655\n",
      "322013\n",
      "-69417\n",
      "310503\n",
      "522857\n",
      "1033096\n",
      "604885\n",
      "-216386\n",
      "477532\n",
      "893810\n",
      "-80353\n",
      "779806\n",
      "-335203\n",
      "697845\n",
      "793163\n",
      "485070\n",
      "584122\n",
      "62729\n",
      "668179\n",
      "899906\n",
      "834719\n",
      "132003\n",
      "309978\n",
      "-755566\n",
      "1170593\n",
      "252788\n",
      "1151518\n",
      "817256\n",
      "570757\n",
      "506702\n",
      "-1022534\n",
      "475062\n",
      "779976\n",
      "144175\n",
      "542494\n",
      "359333\n",
      "321469\n",
      "67780\n",
      "471435\n",
      "565603\n",
      "872480\n",
      "789480\n",
      "999942\n",
      "-1196225\n",
      "268997\n",
      "-687986\n",
      "1150461\n",
      "682458\n",
      "617856\n",
      "824098\n",
      "581943\n",
      "132864\n",
      "448062\n",
      "689161\n",
      "800701\n",
      "1166643\n",
      "947333\n",
      "578668\n",
      "988505\n",
      "1139715\n",
      "1029471\n",
      "687533\n",
      "-524626\n",
      "158620\n",
      "87795\n",
      "423389\n",
      "840723\n",
      "568529\n",
      "332067\n",
      "989499\n",
      "778237\n",
      "650000\n",
      "-1100387\n",
      "-174946\n",
      "757143\n",
      "445709\n",
      "712961\n",
      "-1163797\n",
      "569899\n",
      "768450\n",
      "102685\n",
      "795914\n",
      "60988\n",
      "138230\n",
      "671099\n"
     ]
    }
   ],
   "source": [
    "for value in flat_list[1::2]:\n",
    "    int(value)\n",
    "\n",
    "    print(value)"
   ]
  },
  {
   "cell_type": "code",
   "execution_count": 44,
   "id": "974863d1-42fd-4c6d-99c0-3d7ee63e2e3a",
   "metadata": {
    "tags": []
   },
   "outputs": [
    {
     "name": "stdout",
     "output_type": "stream",
     "text": [
      "[]\n"
     ]
    }
   ],
   "source": []
  },
  {
   "cell_type": "code",
   "execution_count": 32,
   "id": "c04f6761-f12e-4f03-bfcf-24ebc2361270",
   "metadata": {
    "tags": []
   },
   "outputs": [
    {
     "name": "stdout",
     "output_type": "stream",
     "text": [
      "-1022534\n"
     ]
    }
   ],
   "source": [
    "maximum = flat_list[1]\n",
    "minimum = flat_list[1]\n",
    "total = 0\n",
    "\n",
    "for value in flat_list:\n",
    "    if value < minimum:\n",
    "        minimum = value\n",
    "\n",
    "print(minimum)"
   ]
  },
  {
   "cell_type": "code",
   "execution_count": null,
   "id": "77457ca4-d1a1-4d54-8205-e7db57bc94d6",
   "metadata": {},
   "outputs": [],
   "source": []
  },
  {
   "cell_type": "code",
   "execution_count": 29,
   "id": "75a915d8-a139-41cc-9f83-97f83ec877cd",
   "metadata": {
    "tags": []
   },
   "outputs": [
    {
     "ename": "TypeError",
     "evalue": "'<' not supported between instances of 'str' and 'list'",
     "output_type": "error",
     "traceback": [
      "\u001b[0;31m---------------------------------------------------------------------------\u001b[0m",
      "\u001b[0;31mTypeError\u001b[0m                                 Traceback (most recent call last)",
      "Cell \u001b[0;32mIn[29], line 5\u001b[0m\n\u001b[1;32m      2\u001b[0m minimum \u001b[38;5;241m=\u001b[39m budget_data_list_withheaderremoved[\u001b[38;5;241m0\u001b[39m][\u001b[38;5;241m1\u001b[39m]\n\u001b[1;32m      4\u001b[0m \u001b[38;5;28;01mfor\u001b[39;00m value \u001b[38;5;129;01min\u001b[39;00m budget_data_list_withheaderremoved:\n\u001b[0;32m----> 5\u001b[0m     \u001b[38;5;28;01mif\u001b[39;00m value[\u001b[38;5;241m1\u001b[39m] \u001b[38;5;241m<\u001b[39m minimum:\n\u001b[1;32m      6\u001b[0m         minimum \u001b[38;5;241m=\u001b[39m value[\u001b[38;5;241m1\u001b[39m]\n",
      "\u001b[0;31mTypeError\u001b[0m: '<' not supported between instances of 'str' and 'list'"
     ]
    }
   ],
   "source": [
    "maximum = budget_data_list_withheaderremoved[0][1]\n",
    "minimum = budget_data_list_withheaderremoved[0][1]\n",
    "\n",
    "for value in budget_data_list_withheaderremoved:\n",
    "    if value[1] < minimum:\n",
    "        minimum = value[1]"
   ]
  },
  {
   "cell_type": "code",
   "execution_count": 85,
   "id": "e23696c6-8130-4fe2-a2c2-f00fe067a515",
   "metadata": {
    "tags": []
   },
   "outputs": [
    {
     "ename": "NameError",
     "evalue": "name 'reader' is not defined",
     "output_type": "error",
     "traceback": [
      "\u001b[0;31m---------------------------------------------------------------------------\u001b[0m",
      "\u001b[0;31mNameError\u001b[0m                                 Traceback (most recent call last)",
      "Cell \u001b[0;32mIn[85], line 3\u001b[0m\n\u001b[1;32m      1\u001b[0m \u001b[38;5;66;03m# from Ask BCS\u001b[39;00m\n\u001b[1;32m      2\u001b[0m \u001b[38;5;66;03m# Read the header row\u001b[39;00m\n\u001b[0;32m----> 3\u001b[0m header \u001b[38;5;241m=\u001b[39m \u001b[38;5;28mnext\u001b[39m(reader)\n\u001b[1;32m      5\u001b[0m \u001b[38;5;66;03m# Extract first row to avoid appending to net_change_list\u001b[39;00m\n\u001b[1;32m      6\u001b[0m first_row \u001b[38;5;241m=\u001b[39m \u001b[38;5;28mnext\u001b[39m(reader)\n",
      "\u001b[0;31mNameError\u001b[0m: name 'reader' is not defined"
     ]
    }
   ],
   "source": [
    "# from Ask BCS\n",
    "# Read the header row\n",
    "header = next(reader)\n",
    "\n",
    "# Extract first row to avoid appending to net_change_list\n",
    "first_row = next(reader)\n",
    "total_months = total_months + 1\n",
    "total_net = total_net + int(first_row[1])\n",
    "prev_net = int(first_row[1])"
   ]
  },
  {
   "cell_type": "code",
   "execution_count": 81,
   "id": "efdcb7ab-11fc-4546-9795-54ecc79d52e2",
   "metadata": {
    "tags": []
   },
   "outputs": [
    {
     "name": "stdout",
     "output_type": "stream",
     "text": [
      "867884\n"
     ]
    }
   ],
   "source": [
    "# to access lists within list\n",
    "\n",
    "print(budget_data_list[1][1])\n",
    "\n",
    "# element + index"
   ]
  },
  {
   "cell_type": "code",
   "execution_count": 84,
   "id": "67c9546e-9319-4053-ba20-5c994d9c6fcb",
   "metadata": {
    "tags": []
   },
   "outputs": [
    {
     "name": "stdout",
     "output_type": "stream",
     "text": [
      "1033096\n"
     ]
    }
   ],
   "source": [
    "# another example:\n",
    "\n",
    "print(budget_data_list[7][1])"
   ]
  },
  {
   "cell_type": "code",
   "execution_count": 97,
   "id": "58569f38-8a2b-4e91-8fdb-d9feb5d3f59b",
   "metadata": {
    "tags": []
   },
   "outputs": [],
   "source": [
    "total = budget_data_list[1][1]"
   ]
  },
  {
   "cell_type": "code",
   "execution_count": 95,
   "id": "c618d012-9a4f-4d2e-b293-210fae465bf2",
   "metadata": {
    "tags": []
   },
   "outputs": [
    {
     "name": "stdout",
     "output_type": "stream",
     "text": [
      "867884\n"
     ]
    }
   ],
   "source": [
    "print(total)"
   ]
  },
  {
   "cell_type": "code",
   "execution_count": 144,
   "id": "fbad3bcf-b059-4b50-8f3f-21e59b7372e7",
   "metadata": {
    "tags": []
   },
   "outputs": [
    {
     "ename": "TypeError",
     "evalue": "int() argument must be a string, a bytes-like object or a real number, not 'list'",
     "output_type": "error",
     "traceback": [
      "\u001b[0;31m---------------------------------------------------------------------------\u001b[0m",
      "\u001b[0;31mTypeError\u001b[0m                                 Traceback (most recent call last)",
      "Cell \u001b[0;32mIn[144], line 7\u001b[0m\n\u001b[1;32m      4\u001b[0m \u001b[38;5;66;03m# 867884\u001b[39;00m\n\u001b[1;32m      6\u001b[0m \u001b[38;5;28;01mfor\u001b[39;00m num \u001b[38;5;129;01min\u001b[39;00m budget_data_list:\n\u001b[0;32m----> 7\u001b[0m     \u001b[38;5;28mint\u001b[39m([\u001b[38;5;241m0\u001b[39m])\n",
      "\u001b[0;31mTypeError\u001b[0m: int() argument must be a string, a bytes-like object or a real number, not 'list'"
     ]
    }
   ],
   "source": [
    "maximum = budget_data_list[1][1]\n",
    "minimum = budget_data_list[1][1]\n",
    "\n",
    "# 867884\n",
    "\n",
    "for num in budget_data_list:\n",
    "    int([0])"
   ]
  },
  {
   "cell_type": "code",
   "execution_count": 116,
   "id": "8e78b660-2ac7-47de-97c7-17126e9ff3b6",
   "metadata": {
    "tags": []
   },
   "outputs": [
    {
     "name": "stdout",
     "output_type": "stream",
     "text": [
      "867884\n"
     ]
    }
   ],
   "source": [
    "print(minimum)"
   ]
  },
  {
   "cell_type": "code",
   "execution_count": null,
   "id": "9b03f088-fbeb-4263-8c72-34c0b11aed23",
   "metadata": {},
   "outputs": [],
   "source": [
    "\n",
    "total_net = total_net + int(first_row[1])\n",
    "prev_net = int(first_row[1])"
   ]
  },
  {
   "cell_type": "code",
   "execution_count": 124,
   "id": "c4271091-53d4-4a00-b9cb-1ba72bc49a75",
   "metadata": {
    "tags": []
   },
   "outputs": [
    {
     "name": "stdout",
     "output_type": "stream",
     "text": [
      "867884\n"
     ]
    }
   ],
   "source": [
    "net_total = budget_data_list[1][1]\n",
    "print(net_total)"
   ]
  },
  {
   "cell_type": "code",
   "execution_count": 126,
   "id": "af8fdeec-2f9f-4100-8839-819c84c977df",
   "metadata": {
    "tags": []
   },
   "outputs": [
    {
     "name": "stdout",
     "output_type": "stream",
     "text": [
      "867884984655984655\n"
     ]
    }
   ],
   "source": [
    "net_total = net_total + budget_data_list[2][1]\n",
    "print(net_total)"
   ]
  },
  {
   "cell_type": "code",
   "execution_count": 129,
   "id": "42e1645b-b446-4927-8b21-021459771131",
   "metadata": {
    "tags": []
   },
   "outputs": [
    {
     "ename": "TypeError",
     "evalue": "int() argument must be a string, a bytes-like object or a real number, not 'list'",
     "output_type": "error",
     "traceback": [
      "\u001b[0;31m---------------------------------------------------------------------------\u001b[0m",
      "\u001b[0;31mTypeError\u001b[0m                                 Traceback (most recent call last)",
      "Cell \u001b[0;32mIn[129], line 2\u001b[0m\n\u001b[1;32m      1\u001b[0m \u001b[38;5;28;01mfor\u001b[39;00m i \u001b[38;5;129;01min\u001b[39;00m \u001b[38;5;28mrange\u001b[39m (\u001b[38;5;241m1\u001b[39m,\u001b[38;5;28mlen\u001b[39m(budget_data_list)):\n\u001b[0;32m----> 2\u001b[0m     test_list[i] \u001b[38;5;241m=\u001b[39m \u001b[38;5;28mint\u001b[39m(budget_data_list[i])\n",
      "\u001b[0;31mTypeError\u001b[0m: int() argument must be a string, a bytes-like object or a real number, not 'list'"
     ]
    }
   ],
   "source": [
    "for i in range (1,len(budget_data_list)):\n",
    "    test_list[i] = int(budget_data_list[i])"
   ]
  },
  {
   "cell_type": "code",
   "execution_count": 127,
   "id": "dfe800a7-99c3-49e0-9a2e-4e03b5703ea4",
   "metadata": {
    "tags": []
   },
   "outputs": [
    {
     "name": "stdout",
     "output_type": "stream",
     "text": [
      "Modified list is : [1, 4, 3, 6, 7]\n"
     ]
    }
   ],
   "source": [
    "\n",
    "test_list = ['1', '4', '3', '6', '7']\n",
    " \n",
    "# using loop\n",
    "for i in range(0, len(test_list)):\n",
    "    test_list[i] = int(test_list[i])\n",
    " \n",
    "# Printing modified list\n",
    "print(\"Modified list is : \" + str(test_list))"
   ]
  },
  {
   "cell_type": "code",
   "execution_count": 133,
   "id": "2e770ac7-f444-44f7-9d22-d0e1766cfa6d",
   "metadata": {
    "tags": []
   },
   "outputs": [
    {
     "ename": "NameError",
     "evalue": "name 'index' is not defined",
     "output_type": "error",
     "traceback": [
      "\u001b[0;31m---------------------------------------------------------------------------\u001b[0m",
      "\u001b[0;31mNameError\u001b[0m                                 Traceback (most recent call last)",
      "Cell \u001b[0;32mIn[133], line 2\u001b[0m\n\u001b[1;32m      1\u001b[0m modified_list \u001b[38;5;241m=\u001b[39m []\n\u001b[0;32m----> 2\u001b[0m \u001b[38;5;28;01mfor\u001b[39;00m [index][\u001b[38;5;241m1\u001b[39m] \u001b[38;5;129;01min\u001b[39;00m budget_data_list:\n\u001b[1;32m      3\u001b[0m     \u001b[38;5;28mint\u001b[39m([index][\u001b[38;5;241m1\u001b[39m])\n",
      "\u001b[0;31mNameError\u001b[0m: name 'index' is not defined"
     ]
    }
   ],
   "source": [
    "modified_list = []\n",
    "for [index][1] in budget_data_list:\n",
    "    int([index][1])"
   ]
  },
  {
   "cell_type": "code",
   "execution_count": null,
   "id": "976ed41f-b800-4e74-9df1-4fd4177f027f",
   "metadata": {},
   "outputs": [],
   "source": []
  }
 ],
 "metadata": {
  "kernelspec": {
   "display_name": "Python 3 (ipykernel)",
   "language": "python",
   "name": "python3"
  },
  "language_info": {
   "codemirror_mode": {
    "name": "ipython",
    "version": 3
   },
   "file_extension": ".py",
   "mimetype": "text/x-python",
   "name": "python",
   "nbconvert_exporter": "python",
   "pygments_lexer": "ipython3",
   "version": "3.11.5"
  }
 },
 "nbformat": 4,
 "nbformat_minor": 5
}
